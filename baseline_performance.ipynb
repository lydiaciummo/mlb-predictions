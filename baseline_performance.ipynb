{
 "cells": [
  {
   "cell_type": "code",
   "execution_count": 82,
   "id": "a8e867af-1a7a-41f3-b98a-eca1d37af33d",
   "metadata": {},
   "outputs": [],
   "source": [
    "import pandas as pd\n",
    "from pathlib import Path\n",
    "from sklearn.preprocessing import OneHotEncoder\n",
    "from sklearn.model_selection import train_test_split\n",
    "from sklearn.preprocessing import StandardScaler\n",
    "from sklearn.linear_model import LogisticRegression\n",
    "from xgboost import XGBClassifier\n",
    "from sklearn.metrics import balanced_accuracy_score\n",
    "from sklearn.metrics import accuracy_score, precision_score, recall_score\n",
    "from sklearn.metrics import confusion_matrix\n",
    "from sklearn.metrics import classification_report\n",
    "#import matplotlib.pyplot as plt\n",
    "import warnings\n",
    "warnings.filterwarnings('ignore')\n",
    "\n",
    "#!pip install pybaseball\n",
    "#!pip install xgboost"
   ]
  },
  {
   "cell_type": "markdown",
   "id": "0f18dba4-46de-4276-a792-1a4b022ceb4a",
   "metadata": {
    "tags": []
   },
   "source": [
    "### Load & Review Dataframes"
   ]
  },
  {
   "cell_type": "code",
   "execution_count": 83,
   "id": "d5fabbf8-05a3-4d89-9589-840292682960",
   "metadata": {},
   "outputs": [],
   "source": [
    "#Read in Mariners 2022 season csv files from resources folder (mariners_2022_X and mariners_2022_y)\n",
    "X = pd.read_csv(\n",
    "    Path('./Resources/mariners_2022_X.csv'),\n",
    "    index_col=[0],\n",
    ")\n",
    "\n",
    "y = pd.read_csv(\n",
    "    Path('./Resources/mariners_2022_y.csv'),\n",
    "    index_col=[0],\n",
    ")"
   ]
  },
  {
   "cell_type": "code",
   "execution_count": 106,
   "id": "ce28ae59-a465-4bb7-959d-9d449904c813",
   "metadata": {},
   "outputs": [
    {
     "data": {
      "text/html": [
       "<div>\n",
       "<style scoped>\n",
       "    .dataframe tbody tr th:only-of-type {\n",
       "        vertical-align: middle;\n",
       "    }\n",
       "\n",
       "    .dataframe tbody tr th {\n",
       "        vertical-align: top;\n",
       "    }\n",
       "\n",
       "    .dataframe thead th {\n",
       "        text-align: right;\n",
       "    }\n",
       "</style>\n",
       "<table border=\"1\" class=\"dataframe\">\n",
       "  <thead>\n",
       "    <tr style=\"text-align: right;\">\n",
       "      <th></th>\n",
       "      <th>Rank</th>\n",
       "      <th>Home_Away_@</th>\n",
       "      <th>Home_Away_Home</th>\n",
       "      <th>Opp_ATL</th>\n",
       "      <th>Opp_BAL</th>\n",
       "      <th>Opp_BOS</th>\n",
       "      <th>Opp_CHW</th>\n",
       "      <th>Opp_CLE</th>\n",
       "      <th>Opp_DET</th>\n",
       "      <th>Opp_HOU</th>\n",
       "      <th>...</th>\n",
       "      <th>Opp_NYY</th>\n",
       "      <th>Opp_OAK</th>\n",
       "      <th>Opp_PHI</th>\n",
       "      <th>Opp_SDP</th>\n",
       "      <th>Opp_TBR</th>\n",
       "      <th>Opp_TEX</th>\n",
       "      <th>Opp_TOR</th>\n",
       "      <th>Opp_WSN</th>\n",
       "      <th>D/N_D</th>\n",
       "      <th>D/N_N</th>\n",
       "    </tr>\n",
       "  </thead>\n",
       "  <tbody>\n",
       "    <tr>\n",
       "      <th>1</th>\n",
       "      <td>2.0</td>\n",
       "      <td>1.0</td>\n",
       "      <td>0.0</td>\n",
       "      <td>0.0</td>\n",
       "      <td>0.0</td>\n",
       "      <td>0.0</td>\n",
       "      <td>0.0</td>\n",
       "      <td>0.0</td>\n",
       "      <td>0.0</td>\n",
       "      <td>0.0</td>\n",
       "      <td>...</td>\n",
       "      <td>0.0</td>\n",
       "      <td>0.0</td>\n",
       "      <td>0.0</td>\n",
       "      <td>0.0</td>\n",
       "      <td>0.0</td>\n",
       "      <td>0.0</td>\n",
       "      <td>0.0</td>\n",
       "      <td>0.0</td>\n",
       "      <td>1.0</td>\n",
       "      <td>0.0</td>\n",
       "    </tr>\n",
       "    <tr>\n",
       "      <th>2</th>\n",
       "      <td>1.0</td>\n",
       "      <td>1.0</td>\n",
       "      <td>0.0</td>\n",
       "      <td>0.0</td>\n",
       "      <td>0.0</td>\n",
       "      <td>0.0</td>\n",
       "      <td>0.0</td>\n",
       "      <td>0.0</td>\n",
       "      <td>0.0</td>\n",
       "      <td>0.0</td>\n",
       "      <td>...</td>\n",
       "      <td>0.0</td>\n",
       "      <td>0.0</td>\n",
       "      <td>0.0</td>\n",
       "      <td>0.0</td>\n",
       "      <td>0.0</td>\n",
       "      <td>0.0</td>\n",
       "      <td>0.0</td>\n",
       "      <td>0.0</td>\n",
       "      <td>1.0</td>\n",
       "      <td>0.0</td>\n",
       "    </tr>\n",
       "    <tr>\n",
       "      <th>3</th>\n",
       "      <td>2.0</td>\n",
       "      <td>1.0</td>\n",
       "      <td>0.0</td>\n",
       "      <td>0.0</td>\n",
       "      <td>0.0</td>\n",
       "      <td>0.0</td>\n",
       "      <td>0.0</td>\n",
       "      <td>0.0</td>\n",
       "      <td>0.0</td>\n",
       "      <td>0.0</td>\n",
       "      <td>...</td>\n",
       "      <td>0.0</td>\n",
       "      <td>0.0</td>\n",
       "      <td>0.0</td>\n",
       "      <td>0.0</td>\n",
       "      <td>0.0</td>\n",
       "      <td>0.0</td>\n",
       "      <td>0.0</td>\n",
       "      <td>0.0</td>\n",
       "      <td>1.0</td>\n",
       "      <td>0.0</td>\n",
       "    </tr>\n",
       "    <tr>\n",
       "      <th>4</th>\n",
       "      <td>2.0</td>\n",
       "      <td>1.0</td>\n",
       "      <td>0.0</td>\n",
       "      <td>0.0</td>\n",
       "      <td>0.0</td>\n",
       "      <td>0.0</td>\n",
       "      <td>0.0</td>\n",
       "      <td>0.0</td>\n",
       "      <td>0.0</td>\n",
       "      <td>0.0</td>\n",
       "      <td>...</td>\n",
       "      <td>0.0</td>\n",
       "      <td>0.0</td>\n",
       "      <td>0.0</td>\n",
       "      <td>0.0</td>\n",
       "      <td>0.0</td>\n",
       "      <td>0.0</td>\n",
       "      <td>0.0</td>\n",
       "      <td>0.0</td>\n",
       "      <td>0.0</td>\n",
       "      <td>1.0</td>\n",
       "    </tr>\n",
       "    <tr>\n",
       "      <th>5</th>\n",
       "      <td>3.0</td>\n",
       "      <td>1.0</td>\n",
       "      <td>0.0</td>\n",
       "      <td>0.0</td>\n",
       "      <td>0.0</td>\n",
       "      <td>0.0</td>\n",
       "      <td>1.0</td>\n",
       "      <td>0.0</td>\n",
       "      <td>0.0</td>\n",
       "      <td>0.0</td>\n",
       "      <td>...</td>\n",
       "      <td>0.0</td>\n",
       "      <td>0.0</td>\n",
       "      <td>0.0</td>\n",
       "      <td>0.0</td>\n",
       "      <td>0.0</td>\n",
       "      <td>0.0</td>\n",
       "      <td>0.0</td>\n",
       "      <td>0.0</td>\n",
       "      <td>1.0</td>\n",
       "      <td>0.0</td>\n",
       "    </tr>\n",
       "    <tr>\n",
       "      <th>...</th>\n",
       "      <td>...</td>\n",
       "      <td>...</td>\n",
       "      <td>...</td>\n",
       "      <td>...</td>\n",
       "      <td>...</td>\n",
       "      <td>...</td>\n",
       "      <td>...</td>\n",
       "      <td>...</td>\n",
       "      <td>...</td>\n",
       "      <td>...</td>\n",
       "      <td>...</td>\n",
       "      <td>...</td>\n",
       "      <td>...</td>\n",
       "      <td>...</td>\n",
       "      <td>...</td>\n",
       "      <td>...</td>\n",
       "      <td>...</td>\n",
       "      <td>...</td>\n",
       "      <td>...</td>\n",
       "      <td>...</td>\n",
       "      <td>...</td>\n",
       "    </tr>\n",
       "    <tr>\n",
       "      <th>158</th>\n",
       "      <td>2.0</td>\n",
       "      <td>0.0</td>\n",
       "      <td>1.0</td>\n",
       "      <td>0.0</td>\n",
       "      <td>0.0</td>\n",
       "      <td>0.0</td>\n",
       "      <td>0.0</td>\n",
       "      <td>0.0</td>\n",
       "      <td>0.0</td>\n",
       "      <td>0.0</td>\n",
       "      <td>...</td>\n",
       "      <td>0.0</td>\n",
       "      <td>1.0</td>\n",
       "      <td>0.0</td>\n",
       "      <td>0.0</td>\n",
       "      <td>0.0</td>\n",
       "      <td>0.0</td>\n",
       "      <td>0.0</td>\n",
       "      <td>0.0</td>\n",
       "      <td>1.0</td>\n",
       "      <td>0.0</td>\n",
       "    </tr>\n",
       "    <tr>\n",
       "      <th>159</th>\n",
       "      <td>2.0</td>\n",
       "      <td>0.0</td>\n",
       "      <td>1.0</td>\n",
       "      <td>0.0</td>\n",
       "      <td>0.0</td>\n",
       "      <td>0.0</td>\n",
       "      <td>0.0</td>\n",
       "      <td>0.0</td>\n",
       "      <td>1.0</td>\n",
       "      <td>0.0</td>\n",
       "      <td>...</td>\n",
       "      <td>0.0</td>\n",
       "      <td>0.0</td>\n",
       "      <td>0.0</td>\n",
       "      <td>0.0</td>\n",
       "      <td>0.0</td>\n",
       "      <td>0.0</td>\n",
       "      <td>0.0</td>\n",
       "      <td>0.0</td>\n",
       "      <td>0.0</td>\n",
       "      <td>1.0</td>\n",
       "    </tr>\n",
       "    <tr>\n",
       "      <th>160</th>\n",
       "      <td>2.0</td>\n",
       "      <td>0.0</td>\n",
       "      <td>1.0</td>\n",
       "      <td>0.0</td>\n",
       "      <td>0.0</td>\n",
       "      <td>0.0</td>\n",
       "      <td>0.0</td>\n",
       "      <td>0.0</td>\n",
       "      <td>1.0</td>\n",
       "      <td>0.0</td>\n",
       "      <td>...</td>\n",
       "      <td>0.0</td>\n",
       "      <td>0.0</td>\n",
       "      <td>0.0</td>\n",
       "      <td>0.0</td>\n",
       "      <td>0.0</td>\n",
       "      <td>0.0</td>\n",
       "      <td>0.0</td>\n",
       "      <td>0.0</td>\n",
       "      <td>1.0</td>\n",
       "      <td>0.0</td>\n",
       "    </tr>\n",
       "    <tr>\n",
       "      <th>161</th>\n",
       "      <td>2.0</td>\n",
       "      <td>0.0</td>\n",
       "      <td>1.0</td>\n",
       "      <td>0.0</td>\n",
       "      <td>0.0</td>\n",
       "      <td>0.0</td>\n",
       "      <td>0.0</td>\n",
       "      <td>0.0</td>\n",
       "      <td>1.0</td>\n",
       "      <td>0.0</td>\n",
       "      <td>...</td>\n",
       "      <td>0.0</td>\n",
       "      <td>0.0</td>\n",
       "      <td>0.0</td>\n",
       "      <td>0.0</td>\n",
       "      <td>0.0</td>\n",
       "      <td>0.0</td>\n",
       "      <td>0.0</td>\n",
       "      <td>0.0</td>\n",
       "      <td>1.0</td>\n",
       "      <td>0.0</td>\n",
       "    </tr>\n",
       "    <tr>\n",
       "      <th>162</th>\n",
       "      <td>2.0</td>\n",
       "      <td>0.0</td>\n",
       "      <td>1.0</td>\n",
       "      <td>0.0</td>\n",
       "      <td>0.0</td>\n",
       "      <td>0.0</td>\n",
       "      <td>0.0</td>\n",
       "      <td>0.0</td>\n",
       "      <td>1.0</td>\n",
       "      <td>0.0</td>\n",
       "      <td>...</td>\n",
       "      <td>0.0</td>\n",
       "      <td>0.0</td>\n",
       "      <td>0.0</td>\n",
       "      <td>0.0</td>\n",
       "      <td>0.0</td>\n",
       "      <td>0.0</td>\n",
       "      <td>0.0</td>\n",
       "      <td>0.0</td>\n",
       "      <td>1.0</td>\n",
       "      <td>0.0</td>\n",
       "    </tr>\n",
       "  </tbody>\n",
       "</table>\n",
       "<p>162 rows × 25 columns</p>\n",
       "</div>"
      ],
      "text/plain": [
       "     Rank  Home_Away_@  Home_Away_Home  Opp_ATL  Opp_BAL  Opp_BOS  Opp_CHW  \\\n",
       "1     2.0          1.0             0.0      0.0      0.0      0.0      0.0   \n",
       "2     1.0          1.0             0.0      0.0      0.0      0.0      0.0   \n",
       "3     2.0          1.0             0.0      0.0      0.0      0.0      0.0   \n",
       "4     2.0          1.0             0.0      0.0      0.0      0.0      0.0   \n",
       "5     3.0          1.0             0.0      0.0      0.0      0.0      1.0   \n",
       "..    ...          ...             ...      ...      ...      ...      ...   \n",
       "158   2.0          0.0             1.0      0.0      0.0      0.0      0.0   \n",
       "159   2.0          0.0             1.0      0.0      0.0      0.0      0.0   \n",
       "160   2.0          0.0             1.0      0.0      0.0      0.0      0.0   \n",
       "161   2.0          0.0             1.0      0.0      0.0      0.0      0.0   \n",
       "162   2.0          0.0             1.0      0.0      0.0      0.0      0.0   \n",
       "\n",
       "     Opp_CLE  Opp_DET  Opp_HOU  ...  Opp_NYY  Opp_OAK  Opp_PHI  Opp_SDP  \\\n",
       "1        0.0      0.0      0.0  ...      0.0      0.0      0.0      0.0   \n",
       "2        0.0      0.0      0.0  ...      0.0      0.0      0.0      0.0   \n",
       "3        0.0      0.0      0.0  ...      0.0      0.0      0.0      0.0   \n",
       "4        0.0      0.0      0.0  ...      0.0      0.0      0.0      0.0   \n",
       "5        0.0      0.0      0.0  ...      0.0      0.0      0.0      0.0   \n",
       "..       ...      ...      ...  ...      ...      ...      ...      ...   \n",
       "158      0.0      0.0      0.0  ...      0.0      1.0      0.0      0.0   \n",
       "159      0.0      1.0      0.0  ...      0.0      0.0      0.0      0.0   \n",
       "160      0.0      1.0      0.0  ...      0.0      0.0      0.0      0.0   \n",
       "161      0.0      1.0      0.0  ...      0.0      0.0      0.0      0.0   \n",
       "162      0.0      1.0      0.0  ...      0.0      0.0      0.0      0.0   \n",
       "\n",
       "     Opp_TBR  Opp_TEX  Opp_TOR  Opp_WSN  D/N_D  D/N_N  \n",
       "1        0.0      0.0      0.0      0.0    1.0    0.0  \n",
       "2        0.0      0.0      0.0      0.0    1.0    0.0  \n",
       "3        0.0      0.0      0.0      0.0    1.0    0.0  \n",
       "4        0.0      0.0      0.0      0.0    0.0    1.0  \n",
       "5        0.0      0.0      0.0      0.0    1.0    0.0  \n",
       "..       ...      ...      ...      ...    ...    ...  \n",
       "158      0.0      0.0      0.0      0.0    1.0    0.0  \n",
       "159      0.0      0.0      0.0      0.0    0.0    1.0  \n",
       "160      0.0      0.0      0.0      0.0    1.0    0.0  \n",
       "161      0.0      0.0      0.0      0.0    1.0    0.0  \n",
       "162      0.0      0.0      0.0      0.0    1.0    0.0  \n",
       "\n",
       "[162 rows x 25 columns]"
      ]
     },
     "metadata": {},
     "output_type": "display_data"
    },
    {
     "data": {
      "text/html": [
       "<div>\n",
       "<style scoped>\n",
       "    .dataframe tbody tr th:only-of-type {\n",
       "        vertical-align: middle;\n",
       "    }\n",
       "\n",
       "    .dataframe tbody tr th {\n",
       "        vertical-align: top;\n",
       "    }\n",
       "\n",
       "    .dataframe thead th {\n",
       "        text-align: right;\n",
       "    }\n",
       "</style>\n",
       "<table border=\"1\" class=\"dataframe\">\n",
       "  <thead>\n",
       "    <tr style=\"text-align: right;\">\n",
       "      <th></th>\n",
       "      <th>W/L</th>\n",
       "    </tr>\n",
       "  </thead>\n",
       "  <tbody>\n",
       "    <tr>\n",
       "      <th>1</th>\n",
       "      <td>1</td>\n",
       "    </tr>\n",
       "    <tr>\n",
       "      <th>2</th>\n",
       "      <td>1</td>\n",
       "    </tr>\n",
       "    <tr>\n",
       "      <th>3</th>\n",
       "      <td>0</td>\n",
       "    </tr>\n",
       "    <tr>\n",
       "      <th>4</th>\n",
       "      <td>0</td>\n",
       "    </tr>\n",
       "    <tr>\n",
       "      <th>5</th>\n",
       "      <td>0</td>\n",
       "    </tr>\n",
       "    <tr>\n",
       "      <th>...</th>\n",
       "      <td>...</td>\n",
       "    </tr>\n",
       "    <tr>\n",
       "      <th>158</th>\n",
       "      <td>0</td>\n",
       "    </tr>\n",
       "    <tr>\n",
       "      <th>159</th>\n",
       "      <td>0</td>\n",
       "    </tr>\n",
       "    <tr>\n",
       "      <th>160</th>\n",
       "      <td>1</td>\n",
       "    </tr>\n",
       "    <tr>\n",
       "      <th>161</th>\n",
       "      <td>1</td>\n",
       "    </tr>\n",
       "    <tr>\n",
       "      <th>162</th>\n",
       "      <td>1</td>\n",
       "    </tr>\n",
       "  </tbody>\n",
       "</table>\n",
       "<p>162 rows × 1 columns</p>\n",
       "</div>"
      ],
      "text/plain": [
       "     W/L\n",
       "1      1\n",
       "2      1\n",
       "3      0\n",
       "4      0\n",
       "5      0\n",
       "..   ...\n",
       "158    0\n",
       "159    0\n",
       "160    1\n",
       "161    1\n",
       "162    1\n",
       "\n",
       "[162 rows x 1 columns]"
      ]
     },
     "metadata": {},
     "output_type": "display_data"
    }
   ],
   "source": [
    "#Review dataframes\n",
    "display(X)\n",
    "display(y)"
   ]
  },
  {
   "cell_type": "markdown",
   "id": "3dcc495c-bd83-4e8d-9c1b-9993ef906c13",
   "metadata": {
    "tags": []
   },
   "source": [
    "### Split Data into Training and Testing Sets"
   ]
  },
  {
   "cell_type": "code",
   "execution_count": 84,
   "id": "0e183887-8d3c-4405-9fa6-ac9f10200906",
   "metadata": {},
   "outputs": [],
   "source": [
    "# split data using test_train_split w/ random_state=1 and default test size of 25%\n",
    "X_train, X_test, y_train, y_test = train_test_split(X, y, test_size=.25, random_state=1)"
   ]
  },
  {
   "cell_type": "code",
   "execution_count": 85,
   "id": "8daddf6e-d2f7-45b2-89cb-f0065ca15a3d",
   "metadata": {},
   "outputs": [
    {
     "data": {
      "text/plain": [
       "W/L\n",
       "1      23\n",
       "0      18\n",
       "dtype: int64"
      ]
     },
     "execution_count": 85,
     "metadata": {},
     "output_type": "execute_result"
    }
   ],
   "source": [
    "y_test.value_counts()"
   ]
  },
  {
   "cell_type": "markdown",
   "id": "b758e116-4007-450a-b506-c5078a4557d4",
   "metadata": {
    "tags": []
   },
   "source": [
    "### Normalize Data with StandardScaler"
   ]
  },
  {
   "cell_type": "code",
   "execution_count": 86,
   "id": "aab69acf-14c2-4dc1-9c33-1b959bc6f664",
   "metadata": {},
   "outputs": [],
   "source": [
    "# Create the StandardScaler instance\n",
    "scaler = StandardScaler()"
   ]
  },
  {
   "cell_type": "code",
   "execution_count": 87,
   "id": "5f1947d3-6c17-43e5-a417-dac8da57f3ad",
   "metadata": {},
   "outputs": [],
   "source": [
    "# Fit the scaler to the features training dataset\n",
    "X_scaler = scaler.fit(X_train)"
   ]
  },
  {
   "cell_type": "code",
   "execution_count": 88,
   "id": "ba255a18-a333-4dd3-83d7-ebb3ed88211a",
   "metadata": {},
   "outputs": [],
   "source": [
    "X_train_scaled = X_scaler.transform(X_train)\n",
    "X_test_scaled = X_scaler.transform(X_test)"
   ]
  },
  {
   "cell_type": "markdown",
   "id": "4e5ba93b-37e7-47f9-a820-96ffe6642594",
   "metadata": {},
   "source": [
    "### Logistic Regression Model"
   ]
  },
  {
   "cell_type": "code",
   "execution_count": 89,
   "id": "f0aebf6d-1fe1-42cd-9053-6218f658ad00",
   "metadata": {},
   "outputs": [],
   "source": [
    "# Create a LogisticRegression Model with the original data\n",
    "\n",
    "# Instantiate the Logistic Regression Model w/ random_state = 1\n",
    "model = LogisticRegression(random_state=1)\n",
    "\n",
    "# Fit the model using training data\n",
    "lr_model = model.fit(X_train_scaled, y_train)"
   ]
  },
  {
   "cell_type": "code",
   "execution_count": 90,
   "id": "2e6cf680-dbef-4445-a554-841c2bbe1818",
   "metadata": {},
   "outputs": [],
   "source": [
    "# Make predictions using testing data\n",
    "y_pred = lr_model.predict(X_test_scaled)\n",
    "# do we need training predictions if not doing a confusion matrix?\n"
   ]
  },
  {
   "cell_type": "code",
   "execution_count": 91,
   "id": "e1f88875-4a88-4800-a1a6-087f15946cd2",
   "metadata": {},
   "outputs": [
    {
     "name": "stdout",
     "output_type": "stream",
     "text": [
      "0.5640096618357487\n"
     ]
    }
   ],
   "source": [
    "#Evaluation metrics\n",
    "print(balanced_accuracy_score(y_test, y_pred))"
   ]
  },
  {
   "cell_type": "code",
   "execution_count": 92,
   "id": "07be8c8e-157c-4b5b-87cc-96ee90473fed",
   "metadata": {},
   "outputs": [
    {
     "data": {
      "text/plain": [
       "array([[ 7, 11],\n",
       "       [ 6, 17]], dtype=int64)"
      ]
     },
     "execution_count": 92,
     "metadata": {},
     "output_type": "execute_result"
    }
   ],
   "source": [
    "# Generate confusion matrix\n",
    "confusion_matrix(y_test, y_pred)"
   ]
  },
  {
   "cell_type": "code",
   "execution_count": 93,
   "id": "b3c552fe-eaae-49be-8c2e-0454937ed232",
   "metadata": {},
   "outputs": [
    {
     "name": "stdout",
     "output_type": "stream",
     "text": [
      "True Positive(TP) =  17\n",
      "False Positive(FP) =  11\n",
      "True Negative(TN) =  7\n",
      "False Negative(FN) =  6\n"
     ]
    }
   ],
   "source": [
    "TN, FP, FN, TP = confusion_matrix(y_test, y_pred).ravel()\n",
    "print('True Positive(TP) = ', TP)\n",
    "print('False Positive(FP) = ', FP)\n",
    "print('True Negative(TN) = ', TN)\n",
    "print('False Negative(FN) = ', FN)"
   ]
  },
  {
   "cell_type": "code",
   "execution_count": 94,
   "id": "d6c9a5fa-ca8a-466d-a7ca-0a6e4c45f168",
   "metadata": {},
   "outputs": [
    {
     "name": "stdout",
     "output_type": "stream",
     "text": [
      "              precision    recall  f1-score   support\n",
      "\n",
      "           0       0.54      0.39      0.45        18\n",
      "           1       0.61      0.74      0.67        23\n",
      "\n",
      "    accuracy                           0.59        41\n",
      "   macro avg       0.57      0.56      0.56        41\n",
      "weighted avg       0.58      0.59      0.57        41\n",
      "\n"
     ]
    }
   ],
   "source": [
    "# Generate classificaiton report\n",
    "print(classification_report(y_test, y_pred))"
   ]
  },
  {
   "cell_type": "markdown",
   "id": "3d4fb79f-d48e-44b3-aa13-381433caa33d",
   "metadata": {},
   "source": [
    "### XGBoost aka Extreme Gradient Boosting"
   ]
  },
  {
   "cell_type": "code",
   "execution_count": 95,
   "id": "ef6927fa-64b8-46a6-8ad2-52e91c5dc128",
   "metadata": {},
   "outputs": [],
   "source": [
    "# Instantiate XGBoost Model w/ random_state = 1\n",
    "model = XGBClassifier(random_state=1)"
   ]
  },
  {
   "cell_type": "code",
   "execution_count": 96,
   "id": "9fb05bc7-b26a-4634-b993-6c261c4194cf",
   "metadata": {},
   "outputs": [],
   "source": [
    "# Fit the model using the scaled training data\n",
    "XGBModel = model.fit(X_train_scaled, y_train)"
   ]
  },
  {
   "cell_type": "code",
   "execution_count": 97,
   "id": "6ba102ca-b9bb-4572-8c05-0b844a716a41",
   "metadata": {},
   "outputs": [],
   "source": [
    "# Make predictions for test data\n",
    "y_pred = XGBModel.predict(X_test_scaled)\n",
    "\n",
    "# convert prediction percentages to binary\n",
    "predictions = [round(value) for value in y_pred]"
   ]
  },
  {
   "cell_type": "code",
   "execution_count": 98,
   "id": "2e4afa82-70db-4b5c-a57b-2bcfbe41b575",
   "metadata": {},
   "outputs": [
    {
     "data": {
      "text/plain": [
       "0.5609756097560976"
      ]
     },
     "execution_count": 98,
     "metadata": {},
     "output_type": "execute_result"
    }
   ],
   "source": [
    "accuracy = accuracy_score(y_test, predictions)\n",
    "accuracy"
   ]
  },
  {
   "cell_type": "code",
   "execution_count": 99,
   "id": "5499166e-efe0-415e-8bee-07a9459dcabe",
   "metadata": {},
   "outputs": [
    {
     "data": {
      "text/plain": [
       "array([[ 8, 10],\n",
       "       [ 8, 15]], dtype=int64)"
      ]
     },
     "execution_count": 99,
     "metadata": {},
     "output_type": "execute_result"
    }
   ],
   "source": [
    "# Generate confusion matrix\n",
    "confusion_matrix(y_test, y_pred)"
   ]
  },
  {
   "cell_type": "code",
   "execution_count": 100,
   "id": "70d2dc18-6cac-43ea-86f7-93d952f83af7",
   "metadata": {},
   "outputs": [
    {
     "name": "stdout",
     "output_type": "stream",
     "text": [
      "True Positive(TP) =  15\n",
      "False Positive(FP) =  10\n",
      "True Negative(TN) =  8\n",
      "False Negative(FN) =  8\n"
     ]
    }
   ],
   "source": [
    "TN, FP, FN, TP = confusion_matrix(y_test, y_pred).ravel()\n",
    "print('True Positive(TP) = ', TP)\n",
    "print('False Positive(FP) = ', FP)\n",
    "print('True Negative(TN) = ', TN)\n",
    "print('False Negative(FN) = ', FN)"
   ]
  },
  {
   "cell_type": "code",
   "execution_count": 101,
   "id": "07ca2b30-1f50-4d94-8731-62fbd5269b46",
   "metadata": {},
   "outputs": [
    {
     "name": "stdout",
     "output_type": "stream",
     "text": [
      "              precision    recall  f1-score   support\n",
      "\n",
      "           0       0.50      0.44      0.47        18\n",
      "           1       0.60      0.65      0.63        23\n",
      "\n",
      "    accuracy                           0.56        41\n",
      "   macro avg       0.55      0.55      0.55        41\n",
      "weighted avg       0.56      0.56      0.56        41\n",
      "\n"
     ]
    }
   ],
   "source": [
    "# Generate classificaiton report\n",
    "print(classification_report(y_test, y_pred))"
   ]
  },
  {
   "cell_type": "markdown",
   "id": "e3513616-0bc0-4708-a57d-08ec48108398",
   "metadata": {},
   "source": [
    "## Model Initialization and for loop"
   ]
  },
  {
   "cell_type": "code",
   "execution_count": 102,
   "id": "ed2ac476-2535-4d06-80f0-e894fec058f0",
   "metadata": {},
   "outputs": [],
   "source": [
    "# Initialize each binary classifier\n",
    "models = {}\n",
    "models['Logistic Regression'] = LogisticRegression()\n",
    "models['XGBoost'] = XGBClassifier()"
   ]
  },
  {
   "cell_type": "code",
   "execution_count": 103,
   "id": "45a1a0a9-bf02-4bfe-98e3-a63339cec9b6",
   "metadata": {},
   "outputs": [],
   "source": [
    "# Performance Eval\n",
    "accuracy, precision, recall = {}, {}, {}\n",
    "\n",
    "for key in models.keys():\n",
    "    \n",
    "    # fit the classifier\n",
    "    models[key].fit(X_train_scaled, y_train)\n",
    "    \n",
    "    # make predictions\n",
    "    predictions = models[key].predict(X_test_scaled)\n",
    "    \n",
    "    # calculate metrics\n",
    "    accuracy[key] = accuracy_score(predictions, y_test)\n",
    "    precision[key] = precision_score(predictions, y_test)\n",
    "    recall[key] = recall_score(predictions, y_test)"
   ]
  },
  {
   "cell_type": "markdown",
   "id": "d0ec2fbb-e5a8-4f54-9789-27e928738181",
   "metadata": {},
   "source": [
    "## Results"
   ]
  },
  {
   "cell_type": "code",
   "execution_count": 104,
   "id": "aec8dc64-b039-45b9-ba32-b6a9310220f3",
   "metadata": {},
   "outputs": [
    {
     "data": {
      "text/html": [
       "<div>\n",
       "<style scoped>\n",
       "    .dataframe tbody tr th:only-of-type {\n",
       "        vertical-align: middle;\n",
       "    }\n",
       "\n",
       "    .dataframe tbody tr th {\n",
       "        vertical-align: top;\n",
       "    }\n",
       "\n",
       "    .dataframe thead th {\n",
       "        text-align: right;\n",
       "    }\n",
       "</style>\n",
       "<table border=\"1\" class=\"dataframe\">\n",
       "  <thead>\n",
       "    <tr style=\"text-align: right;\">\n",
       "      <th></th>\n",
       "      <th>Accuracy</th>\n",
       "      <th>Precision</th>\n",
       "      <th>Recall</th>\n",
       "    </tr>\n",
       "  </thead>\n",
       "  <tbody>\n",
       "    <tr>\n",
       "      <th>Logistic Regression</th>\n",
       "      <td>0.585366</td>\n",
       "      <td>0.739130</td>\n",
       "      <td>0.607143</td>\n",
       "    </tr>\n",
       "    <tr>\n",
       "      <th>XGBoost</th>\n",
       "      <td>0.560976</td>\n",
       "      <td>0.652174</td>\n",
       "      <td>0.600000</td>\n",
       "    </tr>\n",
       "  </tbody>\n",
       "</table>\n",
       "</div>"
      ],
      "text/plain": [
       "                     Accuracy  Precision    Recall\n",
       "Logistic Regression  0.585366   0.739130  0.607143\n",
       "XGBoost              0.560976   0.652174  0.600000"
      ]
     },
     "execution_count": 104,
     "metadata": {},
     "output_type": "execute_result"
    }
   ],
   "source": [
    "df_model = pd.DataFrame(index=models.keys(), columns=[\"Accuracy\", \"Precision\", \"Recall\"])\n",
    "df_model['Accuracy'] = accuracy.values()\n",
    "df_model['Precision'] = precision.values()\n",
    "df_model['Recall'] = recall.values()\n",
    "\n",
    "df_model"
   ]
  },
  {
   "cell_type": "code",
   "execution_count": 105,
   "id": "a9ba68e7-3d33-433f-b855-e080354d3051",
   "metadata": {},
   "outputs": [
    {
     "data": {
      "text/plain": [
       "<matplotlib.legend.Legend at 0x2814010c4c8>"
      ]
     },
     "execution_count": 105,
     "metadata": {},
     "output_type": "execute_result"
    },
    {
     "data": {
      "image/png": "[encoded data removed]",
      "text/plain": [
       "<Figure size 432x288 with 1 Axes>"
      ]
     },
     "metadata": {
      "needs_background": "light"
     },
     "output_type": "display_data"
    }
   ],
   "source": [
    "ax  = df_model.plot.barh()\n",
    "ax.legend(\n",
    "    ncol=3,\n",
    "    title=\"Model Comparison\",\n",
    "    bbox_to_anchor=(.2,1),\n",
    "    fontsize='small'\n",
    ")"
   ]
  },
  {
   "cell_type": "markdown",
   "id": "9626ef34-4446-4520-a5c0-e23c82cacdab",
   "metadata": {},
   "source": []
  }
 ],
 "metadata": {
  "kernelspec": {
   "display_name": "Python 3 (ipykernel)",
   "language": "python",
   "name": "python3"
  },
  "language_info": {
   "codemirror_mode": {
    "name": "ipython",
    "version": 3
   },
   "file_extension": ".py",
   "mimetype": "text/x-python",
   "name": "python",
   "nbconvert_exporter": "python",
   "pygments_lexer": "ipython3",
   "version": "3.7.13"
  }
 },
 "nbformat": 4,
 "nbformat_minor": 5
}
