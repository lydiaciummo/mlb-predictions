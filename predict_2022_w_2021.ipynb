{
 "cells": [
  {
   "cell_type": "code",
   "execution_count": 28,
   "id": "a8e867af-1a7a-41f3-b98a-eca1d37af33d",
   "metadata": {},
   "outputs": [],
   "source": [
    "import pandas as pd\n",
    "#import numpy as np\n",
    "from pathlib import Path\n",
    "from sklearn.model_selection import train_test_split\n",
    "from sklearn.preprocessing import StandardScaler\n",
    "from sklearn.linear_model import LogisticRegression\n",
    "from xgboost import XGBClassifier\n",
    "from sklearn.metrics import balanced_accuracy_score\n",
    "from sklearn.metrics import accuracy_score, precision_score, recall_score\n",
    "from sklearn.metrics import confusion_matrix\n",
    "from sklearn.metrics import classification_report\n",
    "#import matplotlib.pyplot as plt\n",
    "import warnings\n",
    "warnings.filterwarnings('ignore')\n",
    "\n",
    "#!pip install pybaseball\n",
    "#!pip install xgboost"
   ]
  },
  {
   "cell_type": "markdown",
   "id": "8f4b821a-0a7a-4111-abf5-d3ee3fc9a980",
   "metadata": {
    "tags": []
   },
   "source": [
    "### Load & Review Dataframes"
   ]
  },
  {
   "cell_type": "code",
   "execution_count": 183,
   "id": "960e4966-79b7-4b6f-830a-55fb897e38b4",
   "metadata": {},
   "outputs": [],
   "source": [
    "#Starting with Mariners in 2021 (mariners_2021_y), load to train model\n",
    "X = pd.read_csv(\n",
    "    Path('./Resources/mariners_2021_X.csv'),\n",
    "    index_col=[0],\n",
    ")\n",
    "\n",
    "y = pd.read_csv(\n",
    "    Path('./Resources/mariners_2021_y.csv'),\n",
    "    index_col=[0],\n",
    ")"
   ]
  },
  {
   "cell_type": "code",
   "execution_count": 184,
   "id": "0c849fff-d492-4512-a19f-da716d0ff955",
   "metadata": {},
   "outputs": [
    {
     "data": {
      "text/html": [
       "<div>\n",
       "<style scoped>\n",
       "    .dataframe tbody tr th:only-of-type {\n",
       "        vertical-align: middle;\n",
       "    }\n",
       "\n",
       "    .dataframe tbody tr th {\n",
       "        vertical-align: top;\n",
       "    }\n",
       "\n",
       "    .dataframe thead th {\n",
       "        text-align: right;\n",
       "    }\n",
       "</style>\n",
       "<table border=\"1\" class=\"dataframe\">\n",
       "  <thead>\n",
       "    <tr style=\"text-align: right;\">\n",
       "      <th></th>\n",
       "      <th>Rank</th>\n",
       "      <th>Home_Away_@</th>\n",
       "      <th>Home_Away_Home</th>\n",
       "      <th>Opp_ARI</th>\n",
       "      <th>Opp_BAL</th>\n",
       "      <th>Opp_BOS</th>\n",
       "      <th>Opp_CHW</th>\n",
       "      <th>Opp_CLE</th>\n",
       "      <th>Opp_COL</th>\n",
       "      <th>Opp_DET</th>\n",
       "      <th>...</th>\n",
       "      <th>Opp_MIN</th>\n",
       "      <th>Opp_NYY</th>\n",
       "      <th>Opp_OAK</th>\n",
       "      <th>Opp_SDP</th>\n",
       "      <th>Opp_SFG</th>\n",
       "      <th>Opp_TBR</th>\n",
       "      <th>Opp_TEX</th>\n",
       "      <th>Opp_TOR</th>\n",
       "      <th>D/N_D</th>\n",
       "      <th>D/N_N</th>\n",
       "    </tr>\n",
       "  </thead>\n",
       "  <tbody>\n",
       "    <tr>\n",
       "      <th>1</th>\n",
       "      <td>1.0</td>\n",
       "      <td>0.0</td>\n",
       "      <td>1.0</td>\n",
       "      <td>0.0</td>\n",
       "      <td>0.0</td>\n",
       "      <td>0.0</td>\n",
       "      <td>0.0</td>\n",
       "      <td>0.0</td>\n",
       "      <td>0.0</td>\n",
       "      <td>0.0</td>\n",
       "      <td>...</td>\n",
       "      <td>0.0</td>\n",
       "      <td>0.0</td>\n",
       "      <td>0.0</td>\n",
       "      <td>0.0</td>\n",
       "      <td>1.0</td>\n",
       "      <td>0.0</td>\n",
       "      <td>0.0</td>\n",
       "      <td>0.0</td>\n",
       "      <td>0.0</td>\n",
       "      <td>1.0</td>\n",
       "    </tr>\n",
       "    <tr>\n",
       "      <th>2</th>\n",
       "      <td>2.0</td>\n",
       "      <td>0.0</td>\n",
       "      <td>1.0</td>\n",
       "      <td>0.0</td>\n",
       "      <td>0.0</td>\n",
       "      <td>0.0</td>\n",
       "      <td>0.0</td>\n",
       "      <td>0.0</td>\n",
       "      <td>0.0</td>\n",
       "      <td>0.0</td>\n",
       "      <td>...</td>\n",
       "      <td>0.0</td>\n",
       "      <td>0.0</td>\n",
       "      <td>0.0</td>\n",
       "      <td>0.0</td>\n",
       "      <td>1.0</td>\n",
       "      <td>0.0</td>\n",
       "      <td>0.0</td>\n",
       "      <td>0.0</td>\n",
       "      <td>0.0</td>\n",
       "      <td>1.0</td>\n",
       "    </tr>\n",
       "    <tr>\n",
       "      <th>3</th>\n",
       "      <td>2.0</td>\n",
       "      <td>0.0</td>\n",
       "      <td>1.0</td>\n",
       "      <td>0.0</td>\n",
       "      <td>0.0</td>\n",
       "      <td>0.0</td>\n",
       "      <td>0.0</td>\n",
       "      <td>0.0</td>\n",
       "      <td>0.0</td>\n",
       "      <td>0.0</td>\n",
       "      <td>...</td>\n",
       "      <td>0.0</td>\n",
       "      <td>0.0</td>\n",
       "      <td>0.0</td>\n",
       "      <td>0.0</td>\n",
       "      <td>1.0</td>\n",
       "      <td>0.0</td>\n",
       "      <td>0.0</td>\n",
       "      <td>0.0</td>\n",
       "      <td>0.0</td>\n",
       "      <td>1.0</td>\n",
       "    </tr>\n",
       "    <tr>\n",
       "      <th>4</th>\n",
       "      <td>3.0</td>\n",
       "      <td>0.0</td>\n",
       "      <td>1.0</td>\n",
       "      <td>0.0</td>\n",
       "      <td>0.0</td>\n",
       "      <td>0.0</td>\n",
       "      <td>1.0</td>\n",
       "      <td>0.0</td>\n",
       "      <td>0.0</td>\n",
       "      <td>0.0</td>\n",
       "      <td>...</td>\n",
       "      <td>0.0</td>\n",
       "      <td>0.0</td>\n",
       "      <td>0.0</td>\n",
       "      <td>0.0</td>\n",
       "      <td>0.0</td>\n",
       "      <td>0.0</td>\n",
       "      <td>0.0</td>\n",
       "      <td>0.0</td>\n",
       "      <td>0.0</td>\n",
       "      <td>1.0</td>\n",
       "    </tr>\n",
       "    <tr>\n",
       "      <th>5</th>\n",
       "      <td>3.0</td>\n",
       "      <td>0.0</td>\n",
       "      <td>1.0</td>\n",
       "      <td>0.0</td>\n",
       "      <td>0.0</td>\n",
       "      <td>0.0</td>\n",
       "      <td>1.0</td>\n",
       "      <td>0.0</td>\n",
       "      <td>0.0</td>\n",
       "      <td>0.0</td>\n",
       "      <td>...</td>\n",
       "      <td>0.0</td>\n",
       "      <td>0.0</td>\n",
       "      <td>0.0</td>\n",
       "      <td>0.0</td>\n",
       "      <td>0.0</td>\n",
       "      <td>0.0</td>\n",
       "      <td>0.0</td>\n",
       "      <td>0.0</td>\n",
       "      <td>0.0</td>\n",
       "      <td>1.0</td>\n",
       "    </tr>\n",
       "    <tr>\n",
       "      <th>...</th>\n",
       "      <td>...</td>\n",
       "      <td>...</td>\n",
       "      <td>...</td>\n",
       "      <td>...</td>\n",
       "      <td>...</td>\n",
       "      <td>...</td>\n",
       "      <td>...</td>\n",
       "      <td>...</td>\n",
       "      <td>...</td>\n",
       "      <td>...</td>\n",
       "      <td>...</td>\n",
       "      <td>...</td>\n",
       "      <td>...</td>\n",
       "      <td>...</td>\n",
       "      <td>...</td>\n",
       "      <td>...</td>\n",
       "      <td>...</td>\n",
       "      <td>...</td>\n",
       "      <td>...</td>\n",
       "      <td>...</td>\n",
       "      <td>...</td>\n",
       "    </tr>\n",
       "    <tr>\n",
       "      <th>158</th>\n",
       "      <td>2.0</td>\n",
       "      <td>0.0</td>\n",
       "      <td>1.0</td>\n",
       "      <td>0.0</td>\n",
       "      <td>0.0</td>\n",
       "      <td>0.0</td>\n",
       "      <td>0.0</td>\n",
       "      <td>0.0</td>\n",
       "      <td>0.0</td>\n",
       "      <td>0.0</td>\n",
       "      <td>...</td>\n",
       "      <td>0.0</td>\n",
       "      <td>0.0</td>\n",
       "      <td>1.0</td>\n",
       "      <td>0.0</td>\n",
       "      <td>0.0</td>\n",
       "      <td>0.0</td>\n",
       "      <td>0.0</td>\n",
       "      <td>0.0</td>\n",
       "      <td>0.0</td>\n",
       "      <td>1.0</td>\n",
       "    </tr>\n",
       "    <tr>\n",
       "      <th>159</th>\n",
       "      <td>2.0</td>\n",
       "      <td>0.0</td>\n",
       "      <td>1.0</td>\n",
       "      <td>0.0</td>\n",
       "      <td>0.0</td>\n",
       "      <td>0.0</td>\n",
       "      <td>0.0</td>\n",
       "      <td>0.0</td>\n",
       "      <td>0.0</td>\n",
       "      <td>0.0</td>\n",
       "      <td>...</td>\n",
       "      <td>0.0</td>\n",
       "      <td>0.0</td>\n",
       "      <td>1.0</td>\n",
       "      <td>0.0</td>\n",
       "      <td>0.0</td>\n",
       "      <td>0.0</td>\n",
       "      <td>0.0</td>\n",
       "      <td>0.0</td>\n",
       "      <td>0.0</td>\n",
       "      <td>1.0</td>\n",
       "    </tr>\n",
       "    <tr>\n",
       "      <th>160</th>\n",
       "      <td>2.0</td>\n",
       "      <td>0.0</td>\n",
       "      <td>1.0</td>\n",
       "      <td>0.0</td>\n",
       "      <td>0.0</td>\n",
       "      <td>0.0</td>\n",
       "      <td>0.0</td>\n",
       "      <td>0.0</td>\n",
       "      <td>0.0</td>\n",
       "      <td>0.0</td>\n",
       "      <td>...</td>\n",
       "      <td>0.0</td>\n",
       "      <td>0.0</td>\n",
       "      <td>0.0</td>\n",
       "      <td>0.0</td>\n",
       "      <td>0.0</td>\n",
       "      <td>0.0</td>\n",
       "      <td>0.0</td>\n",
       "      <td>0.0</td>\n",
       "      <td>0.0</td>\n",
       "      <td>1.0</td>\n",
       "    </tr>\n",
       "    <tr>\n",
       "      <th>161</th>\n",
       "      <td>2.0</td>\n",
       "      <td>0.0</td>\n",
       "      <td>1.0</td>\n",
       "      <td>0.0</td>\n",
       "      <td>0.0</td>\n",
       "      <td>0.0</td>\n",
       "      <td>0.0</td>\n",
       "      <td>0.0</td>\n",
       "      <td>0.0</td>\n",
       "      <td>0.0</td>\n",
       "      <td>...</td>\n",
       "      <td>0.0</td>\n",
       "      <td>0.0</td>\n",
       "      <td>0.0</td>\n",
       "      <td>0.0</td>\n",
       "      <td>0.0</td>\n",
       "      <td>0.0</td>\n",
       "      <td>0.0</td>\n",
       "      <td>0.0</td>\n",
       "      <td>0.0</td>\n",
       "      <td>1.0</td>\n",
       "    </tr>\n",
       "    <tr>\n",
       "      <th>162</th>\n",
       "      <td>2.0</td>\n",
       "      <td>0.0</td>\n",
       "      <td>1.0</td>\n",
       "      <td>0.0</td>\n",
       "      <td>0.0</td>\n",
       "      <td>0.0</td>\n",
       "      <td>0.0</td>\n",
       "      <td>0.0</td>\n",
       "      <td>0.0</td>\n",
       "      <td>0.0</td>\n",
       "      <td>...</td>\n",
       "      <td>0.0</td>\n",
       "      <td>0.0</td>\n",
       "      <td>0.0</td>\n",
       "      <td>0.0</td>\n",
       "      <td>0.0</td>\n",
       "      <td>0.0</td>\n",
       "      <td>0.0</td>\n",
       "      <td>0.0</td>\n",
       "      <td>1.0</td>\n",
       "      <td>0.0</td>\n",
       "    </tr>\n",
       "  </tbody>\n",
       "</table>\n",
       "<p>162 rows × 24 columns</p>\n",
       "</div>"
      ],
      "text/plain": [
       "     Rank  Home_Away_@  Home_Away_Home  Opp_ARI  Opp_BAL  Opp_BOS  Opp_CHW  \\\n",
       "1     1.0          0.0             1.0      0.0      0.0      0.0      0.0   \n",
       "2     2.0          0.0             1.0      0.0      0.0      0.0      0.0   \n",
       "3     2.0          0.0             1.0      0.0      0.0      0.0      0.0   \n",
       "4     3.0          0.0             1.0      0.0      0.0      0.0      1.0   \n",
       "5     3.0          0.0             1.0      0.0      0.0      0.0      1.0   \n",
       "..    ...          ...             ...      ...      ...      ...      ...   \n",
       "158   2.0          0.0             1.0      0.0      0.0      0.0      0.0   \n",
       "159   2.0          0.0             1.0      0.0      0.0      0.0      0.0   \n",
       "160   2.0          0.0             1.0      0.0      0.0      0.0      0.0   \n",
       "161   2.0          0.0             1.0      0.0      0.0      0.0      0.0   \n",
       "162   2.0          0.0             1.0      0.0      0.0      0.0      0.0   \n",
       "\n",
       "     Opp_CLE  Opp_COL  Opp_DET  ...  Opp_MIN  Opp_NYY  Opp_OAK  Opp_SDP  \\\n",
       "1        0.0      0.0      0.0  ...      0.0      0.0      0.0      0.0   \n",
       "2        0.0      0.0      0.0  ...      0.0      0.0      0.0      0.0   \n",
       "3        0.0      0.0      0.0  ...      0.0      0.0      0.0      0.0   \n",
       "4        0.0      0.0      0.0  ...      0.0      0.0      0.0      0.0   \n",
       "5        0.0      0.0      0.0  ...      0.0      0.0      0.0      0.0   \n",
       "..       ...      ...      ...  ...      ...      ...      ...      ...   \n",
       "158      0.0      0.0      0.0  ...      0.0      0.0      1.0      0.0   \n",
       "159      0.0      0.0      0.0  ...      0.0      0.0      1.0      0.0   \n",
       "160      0.0      0.0      0.0  ...      0.0      0.0      0.0      0.0   \n",
       "161      0.0      0.0      0.0  ...      0.0      0.0      0.0      0.0   \n",
       "162      0.0      0.0      0.0  ...      0.0      0.0      0.0      0.0   \n",
       "\n",
       "     Opp_SFG  Opp_TBR  Opp_TEX  Opp_TOR  D/N_D  D/N_N  \n",
       "1        1.0      0.0      0.0      0.0    0.0    1.0  \n",
       "2        1.0      0.0      0.0      0.0    0.0    1.0  \n",
       "3        1.0      0.0      0.0      0.0    0.0    1.0  \n",
       "4        0.0      0.0      0.0      0.0    0.0    1.0  \n",
       "5        0.0      0.0      0.0      0.0    0.0    1.0  \n",
       "..       ...      ...      ...      ...    ...    ...  \n",
       "158      0.0      0.0      0.0      0.0    0.0    1.0  \n",
       "159      0.0      0.0      0.0      0.0    0.0    1.0  \n",
       "160      0.0      0.0      0.0      0.0    0.0    1.0  \n",
       "161      0.0      0.0      0.0      0.0    0.0    1.0  \n",
       "162      0.0      0.0      0.0      0.0    1.0    0.0  \n",
       "\n",
       "[162 rows x 24 columns]"
      ]
     },
     "metadata": {},
     "output_type": "display_data"
    },
    {
     "data": {
      "text/html": [
       "<div>\n",
       "<style scoped>\n",
       "    .dataframe tbody tr th:only-of-type {\n",
       "        vertical-align: middle;\n",
       "    }\n",
       "\n",
       "    .dataframe tbody tr th {\n",
       "        vertical-align: top;\n",
       "    }\n",
       "\n",
       "    .dataframe thead th {\n",
       "        text-align: right;\n",
       "    }\n",
       "</style>\n",
       "<table border=\"1\" class=\"dataframe\">\n",
       "  <thead>\n",
       "    <tr style=\"text-align: right;\">\n",
       "      <th></th>\n",
       "      <th>W/L</th>\n",
       "    </tr>\n",
       "  </thead>\n",
       "  <tbody>\n",
       "    <tr>\n",
       "      <th>1</th>\n",
       "      <td>1</td>\n",
       "    </tr>\n",
       "    <tr>\n",
       "      <th>2</th>\n",
       "      <td>0</td>\n",
       "    </tr>\n",
       "    <tr>\n",
       "      <th>3</th>\n",
       "      <td>1</td>\n",
       "    </tr>\n",
       "    <tr>\n",
       "      <th>4</th>\n",
       "      <td>0</td>\n",
       "    </tr>\n",
       "    <tr>\n",
       "      <th>5</th>\n",
       "      <td>0</td>\n",
       "    </tr>\n",
       "    <tr>\n",
       "      <th>...</th>\n",
       "      <td>...</td>\n",
       "    </tr>\n",
       "    <tr>\n",
       "      <th>158</th>\n",
       "      <td>1</td>\n",
       "    </tr>\n",
       "    <tr>\n",
       "      <th>159</th>\n",
       "      <td>1</td>\n",
       "    </tr>\n",
       "    <tr>\n",
       "      <th>160</th>\n",
       "      <td>0</td>\n",
       "    </tr>\n",
       "    <tr>\n",
       "      <th>161</th>\n",
       "      <td>1</td>\n",
       "    </tr>\n",
       "    <tr>\n",
       "      <th>162</th>\n",
       "      <td>0</td>\n",
       "    </tr>\n",
       "  </tbody>\n",
       "</table>\n",
       "<p>162 rows × 1 columns</p>\n",
       "</div>"
      ],
      "text/plain": [
       "     W/L\n",
       "1      1\n",
       "2      0\n",
       "3      1\n",
       "4      0\n",
       "5      0\n",
       "..   ...\n",
       "158    1\n",
       "159    1\n",
       "160    0\n",
       "161    1\n",
       "162    0\n",
       "\n",
       "[162 rows x 1 columns]"
      ]
     },
     "metadata": {},
     "output_type": "display_data"
    }
   ],
   "source": [
    "#Review dataframe\n",
    "display(X)\n",
    "display(y)"
   ]
  },
  {
   "cell_type": "markdown",
   "id": "e3e336bc-2e16-49fe-9dcf-d7fe2b4ca5ef",
   "metadata": {
    "tags": []
   },
   "source": [
    "### Split Data into Training and Testing Sets"
   ]
  },
  {
   "cell_type": "code",
   "execution_count": 185,
   "id": "0e183887-8d3c-4405-9fa6-ac9f10200906",
   "metadata": {},
   "outputs": [],
   "source": [
    "# split data using test_train_split w/ random_state=1 and default test size of 25%\n",
    "X_train, X_test, y_train, y_test = train_test_split(X, y, test_size=.25, random_state=1)"
   ]
  },
  {
   "cell_type": "code",
   "execution_count": 186,
   "id": "8daddf6e-d2f7-45b2-89cb-f0065ca15a3d",
   "metadata": {},
   "outputs": [
    {
     "data": {
      "text/plain": [
       "W/L\n",
       "1      23\n",
       "0      18\n",
       "dtype: int64"
      ]
     },
     "execution_count": 186,
     "metadata": {},
     "output_type": "execute_result"
    }
   ],
   "source": [
    "y_test.value_counts()"
   ]
  },
  {
   "cell_type": "markdown",
   "id": "1a0fe936-b801-47f1-a82d-fd023fbe9687",
   "metadata": {
    "tags": []
   },
   "source": [
    "### Normalize Data with StandardScaler"
   ]
  },
  {
   "cell_type": "code",
   "execution_count": 187,
   "id": "aab69acf-14c2-4dc1-9c33-1b959bc6f664",
   "metadata": {},
   "outputs": [],
   "source": [
    "# Create the StandardScaler instance\n",
    "X_scaler = StandardScaler()"
   ]
  },
  {
   "cell_type": "code",
   "execution_count": 188,
   "id": "5f1947d3-6c17-43e5-a417-dac8da57f3ad",
   "metadata": {},
   "outputs": [
    {
     "data": {
      "text/plain": [
       "StandardScaler()"
      ]
     },
     "execution_count": 188,
     "metadata": {},
     "output_type": "execute_result"
    }
   ],
   "source": [
    "# Fit the scaler to the features training dataset\n",
    "X_scaler.fit(X_train)"
   ]
  },
  {
   "cell_type": "code",
   "execution_count": 189,
   "id": "ba255a18-a333-4dd3-83d7-ebb3ed88211a",
   "metadata": {},
   "outputs": [],
   "source": [
    "X_train_scaled = X_scaler.transform(X_train)\n",
    "X_test_scaled = X_scaler.transform(X_test)"
   ]
  },
  {
   "cell_type": "markdown",
   "id": "4e5ba93b-37e7-47f9-a820-96ffe6642594",
   "metadata": {},
   "source": [
    "### Logistic Regression Model"
   ]
  },
  {
   "cell_type": "code",
   "execution_count": 190,
   "id": "f0aebf6d-1fe1-42cd-9053-6218f658ad00",
   "metadata": {},
   "outputs": [],
   "source": [
    "# Create a LogisticRegression Model with the original data\n",
    "\n",
    "# Instantiate the Logistic Regression Model w/ random_state = 1\n",
    "model = LogisticRegression(random_state=1)\n",
    "\n",
    "# Fit the model using training data\n",
    "lr_model = model.fit(X_train_scaled, y_train)"
   ]
  },
  {
   "cell_type": "code",
   "execution_count": 191,
   "id": "2e6cf680-dbef-4445-a554-841c2bbe1818",
   "metadata": {},
   "outputs": [],
   "source": [
    "# Make predictions using testing data\n",
    "y_pred = lr_model.predict(X_test_scaled)\n",
    "# do we need training predictions if not doing a confusion matrix?\n"
   ]
  },
  {
   "cell_type": "code",
   "execution_count": 192,
   "id": "e1f88875-4a88-4800-a1a6-087f15946cd2",
   "metadata": {},
   "outputs": [
    {
     "name": "stdout",
     "output_type": "stream",
     "text": [
      "0.5664251207729469\n"
     ]
    }
   ],
   "source": [
    "#Evaluation metrics\n",
    "print(balanced_accuracy_score(y_test, y_pred))"
   ]
  },
  {
   "cell_type": "code",
   "execution_count": 193,
   "id": "07be8c8e-157c-4b5b-87cc-96ee90473fed",
   "metadata": {},
   "outputs": [
    {
     "data": {
      "text/plain": [
       "array([[11,  7],\n",
       "       [11, 12]], dtype=int64)"
      ]
     },
     "execution_count": 193,
     "metadata": {},
     "output_type": "execute_result"
    }
   ],
   "source": [
    "# Generate confusion matrix\n",
    "confusion_matrix(y_test, y_pred)"
   ]
  },
  {
   "cell_type": "code",
   "execution_count": 194,
   "id": "b3c552fe-eaae-49be-8c2e-0454937ed232",
   "metadata": {},
   "outputs": [
    {
     "name": "stdout",
     "output_type": "stream",
     "text": [
      "True Positive(TP) =  12\n",
      "False Positive(FP) =  7\n",
      "True Negative(TN) =  11\n",
      "False Negative(FN) =  11\n"
     ]
    }
   ],
   "source": [
    "TN, FP, FN, TP = confusion_matrix(y_test, y_pred).ravel()\n",
    "print('True Positive(TP) = ', TP)\n",
    "print('False Positive(FP) = ', FP)\n",
    "print('True Negative(TN) = ', TN)\n",
    "print('False Negative(FN) = ', FN)"
   ]
  },
  {
   "cell_type": "code",
   "execution_count": 195,
   "id": "d6c9a5fa-ca8a-466d-a7ca-0a6e4c45f168",
   "metadata": {},
   "outputs": [
    {
     "name": "stdout",
     "output_type": "stream",
     "text": [
      "              precision    recall  f1-score   support\n",
      "\n",
      "           0       0.50      0.61      0.55        18\n",
      "           1       0.63      0.52      0.57        23\n",
      "\n",
      "    accuracy                           0.56        41\n",
      "   macro avg       0.57      0.57      0.56        41\n",
      "weighted avg       0.57      0.56      0.56        41\n",
      "\n"
     ]
    }
   ],
   "source": [
    "# Generate classificaiton report\n",
    "print(classification_report(y_test, y_pred))"
   ]
  },
  {
   "cell_type": "code",
   "execution_count": null,
   "id": "d0614748-1860-4f2c-8d09-30520c1d9f63",
   "metadata": {},
   "outputs": [],
   "source": []
  },
  {
   "cell_type": "markdown",
   "id": "1a1fe2bd-4510-4313-bc09-97e1f023cb32",
   "metadata": {},
   "source": [
    "### Predicting Mariners' 2022 Games"
   ]
  },
  {
   "cell_type": "code",
   "execution_count": 248,
   "id": "899ff843-99a5-4da7-a8c3-918cb6ee9cdb",
   "metadata": {},
   "outputs": [],
   "source": [
    "#load Mariners' dataset to feed into model\n",
    "X_2022 = pd.read_csv(\n",
    "    Path('./Resources/mariners_2022_X.csv'),\n",
    "    index_col=[0],\n",
    ")\n",
    "\n",
    "y_2022 = pd.read_csv(\n",
    "    Path('./Resources/mariners_2022_y.csv'),\n",
    "    index_col=[0],\n",
    ")"
   ]
  },
  {
   "cell_type": "code",
   "execution_count": 249,
   "id": "99e87132-71c7-4ebc-b4f6-b0527e03dce3",
   "metadata": {},
   "outputs": [
    {
     "data": {
      "text/html": [
       "<div>\n",
       "<style scoped>\n",
       "    .dataframe tbody tr th:only-of-type {\n",
       "        vertical-align: middle;\n",
       "    }\n",
       "\n",
       "    .dataframe tbody tr th {\n",
       "        vertical-align: top;\n",
       "    }\n",
       "\n",
       "    .dataframe thead th {\n",
       "        text-align: right;\n",
       "    }\n",
       "</style>\n",
       "<table border=\"1\" class=\"dataframe\">\n",
       "  <thead>\n",
       "    <tr style=\"text-align: right;\">\n",
       "      <th></th>\n",
       "      <th>Rank</th>\n",
       "      <th>Home_Away_@</th>\n",
       "      <th>Home_Away_Home</th>\n",
       "      <th>Opp_ATL</th>\n",
       "      <th>Opp_BAL</th>\n",
       "      <th>Opp_BOS</th>\n",
       "      <th>Opp_CHW</th>\n",
       "      <th>Opp_CLE</th>\n",
       "      <th>Opp_DET</th>\n",
       "      <th>Opp_HOU</th>\n",
       "      <th>...</th>\n",
       "      <th>Opp_NYY</th>\n",
       "      <th>Opp_OAK</th>\n",
       "      <th>Opp_PHI</th>\n",
       "      <th>Opp_SDP</th>\n",
       "      <th>Opp_TBR</th>\n",
       "      <th>Opp_TEX</th>\n",
       "      <th>Opp_TOR</th>\n",
       "      <th>Opp_WSN</th>\n",
       "      <th>D/N_D</th>\n",
       "      <th>D/N_N</th>\n",
       "    </tr>\n",
       "  </thead>\n",
       "  <tbody>\n",
       "    <tr>\n",
       "      <th>1</th>\n",
       "      <td>2.0</td>\n",
       "      <td>1.0</td>\n",
       "      <td>0.0</td>\n",
       "      <td>0.0</td>\n",
       "      <td>0.0</td>\n",
       "      <td>0.0</td>\n",
       "      <td>0.0</td>\n",
       "      <td>0.0</td>\n",
       "      <td>0.0</td>\n",
       "      <td>0.0</td>\n",
       "      <td>...</td>\n",
       "      <td>0.0</td>\n",
       "      <td>0.0</td>\n",
       "      <td>0.0</td>\n",
       "      <td>0.0</td>\n",
       "      <td>0.0</td>\n",
       "      <td>0.0</td>\n",
       "      <td>0.0</td>\n",
       "      <td>0.0</td>\n",
       "      <td>1.0</td>\n",
       "      <td>0.0</td>\n",
       "    </tr>\n",
       "    <tr>\n",
       "      <th>2</th>\n",
       "      <td>1.0</td>\n",
       "      <td>1.0</td>\n",
       "      <td>0.0</td>\n",
       "      <td>0.0</td>\n",
       "      <td>0.0</td>\n",
       "      <td>0.0</td>\n",
       "      <td>0.0</td>\n",
       "      <td>0.0</td>\n",
       "      <td>0.0</td>\n",
       "      <td>0.0</td>\n",
       "      <td>...</td>\n",
       "      <td>0.0</td>\n",
       "      <td>0.0</td>\n",
       "      <td>0.0</td>\n",
       "      <td>0.0</td>\n",
       "      <td>0.0</td>\n",
       "      <td>0.0</td>\n",
       "      <td>0.0</td>\n",
       "      <td>0.0</td>\n",
       "      <td>1.0</td>\n",
       "      <td>0.0</td>\n",
       "    </tr>\n",
       "    <tr>\n",
       "      <th>3</th>\n",
       "      <td>2.0</td>\n",
       "      <td>1.0</td>\n",
       "      <td>0.0</td>\n",
       "      <td>0.0</td>\n",
       "      <td>0.0</td>\n",
       "      <td>0.0</td>\n",
       "      <td>0.0</td>\n",
       "      <td>0.0</td>\n",
       "      <td>0.0</td>\n",
       "      <td>0.0</td>\n",
       "      <td>...</td>\n",
       "      <td>0.0</td>\n",
       "      <td>0.0</td>\n",
       "      <td>0.0</td>\n",
       "      <td>0.0</td>\n",
       "      <td>0.0</td>\n",
       "      <td>0.0</td>\n",
       "      <td>0.0</td>\n",
       "      <td>0.0</td>\n",
       "      <td>1.0</td>\n",
       "      <td>0.0</td>\n",
       "    </tr>\n",
       "    <tr>\n",
       "      <th>4</th>\n",
       "      <td>2.0</td>\n",
       "      <td>1.0</td>\n",
       "      <td>0.0</td>\n",
       "      <td>0.0</td>\n",
       "      <td>0.0</td>\n",
       "      <td>0.0</td>\n",
       "      <td>0.0</td>\n",
       "      <td>0.0</td>\n",
       "      <td>0.0</td>\n",
       "      <td>0.0</td>\n",
       "      <td>...</td>\n",
       "      <td>0.0</td>\n",
       "      <td>0.0</td>\n",
       "      <td>0.0</td>\n",
       "      <td>0.0</td>\n",
       "      <td>0.0</td>\n",
       "      <td>0.0</td>\n",
       "      <td>0.0</td>\n",
       "      <td>0.0</td>\n",
       "      <td>0.0</td>\n",
       "      <td>1.0</td>\n",
       "    </tr>\n",
       "    <tr>\n",
       "      <th>5</th>\n",
       "      <td>3.0</td>\n",
       "      <td>1.0</td>\n",
       "      <td>0.0</td>\n",
       "      <td>0.0</td>\n",
       "      <td>0.0</td>\n",
       "      <td>0.0</td>\n",
       "      <td>1.0</td>\n",
       "      <td>0.0</td>\n",
       "      <td>0.0</td>\n",
       "      <td>0.0</td>\n",
       "      <td>...</td>\n",
       "      <td>0.0</td>\n",
       "      <td>0.0</td>\n",
       "      <td>0.0</td>\n",
       "      <td>0.0</td>\n",
       "      <td>0.0</td>\n",
       "      <td>0.0</td>\n",
       "      <td>0.0</td>\n",
       "      <td>0.0</td>\n",
       "      <td>1.0</td>\n",
       "      <td>0.0</td>\n",
       "    </tr>\n",
       "  </tbody>\n",
       "</table>\n",
       "<p>5 rows × 25 columns</p>\n",
       "</div>"
      ],
      "text/plain": [
       "   Rank  Home_Away_@  Home_Away_Home  Opp_ATL  Opp_BAL  Opp_BOS  Opp_CHW  \\\n",
       "1   2.0          1.0             0.0      0.0      0.0      0.0      0.0   \n",
       "2   1.0          1.0             0.0      0.0      0.0      0.0      0.0   \n",
       "3   2.0          1.0             0.0      0.0      0.0      0.0      0.0   \n",
       "4   2.0          1.0             0.0      0.0      0.0      0.0      0.0   \n",
       "5   3.0          1.0             0.0      0.0      0.0      0.0      1.0   \n",
       "\n",
       "   Opp_CLE  Opp_DET  Opp_HOU  ...  Opp_NYY  Opp_OAK  Opp_PHI  Opp_SDP  \\\n",
       "1      0.0      0.0      0.0  ...      0.0      0.0      0.0      0.0   \n",
       "2      0.0      0.0      0.0  ...      0.0      0.0      0.0      0.0   \n",
       "3      0.0      0.0      0.0  ...      0.0      0.0      0.0      0.0   \n",
       "4      0.0      0.0      0.0  ...      0.0      0.0      0.0      0.0   \n",
       "5      0.0      0.0      0.0  ...      0.0      0.0      0.0      0.0   \n",
       "\n",
       "   Opp_TBR  Opp_TEX  Opp_TOR  Opp_WSN  D/N_D  D/N_N  \n",
       "1      0.0      0.0      0.0      0.0    1.0    0.0  \n",
       "2      0.0      0.0      0.0      0.0    1.0    0.0  \n",
       "3      0.0      0.0      0.0      0.0    1.0    0.0  \n",
       "4      0.0      0.0      0.0      0.0    0.0    1.0  \n",
       "5      0.0      0.0      0.0      0.0    1.0    0.0  \n",
       "\n",
       "[5 rows x 25 columns]"
      ]
     },
     "execution_count": 249,
     "metadata": {},
     "output_type": "execute_result"
    }
   ],
   "source": [
    "#Review dataframe\n",
    "X_2022.head()"
   ]
  },
  {
   "cell_type": "code",
   "execution_count": 250,
   "id": "2f4ce946-ff58-4f93-9f5c-72e8bd31a858",
   "metadata": {},
   "outputs": [],
   "source": [
    "#drop extra opponent to avoid 'ValueError: X has 25 features, but LogisticRegression is expecting 24 features as input.''\n",
    "X_2022= X_2022.drop(columns=['Opp_WSN'])"
   ]
  },
  {
   "cell_type": "code",
   "execution_count": 251,
   "id": "b797b6e5-3d2f-4437-9078-3054e9fb1636",
   "metadata": {},
   "outputs": [],
   "source": [
    "# Fit the scaler to the features testing dataset\n",
    "scaler = StandardScaler()\n",
    "X_scaler = scaler.fit(X_2022)\n",
    "X_2022_scaled = X_scaler.transform(X_2022)"
   ]
  },
  {
   "cell_type": "code",
   "execution_count": 252,
   "id": "9cc51456-7d80-4921-8c08-e54adc64c105",
   "metadata": {},
   "outputs": [],
   "source": [
    "# Make predictions using testing data\n",
    "y_2022_pred = lr_model.predict(X_2022_scaled)"
   ]
  },
  {
   "cell_type": "code",
   "execution_count": 253,
   "id": "5093ba6f-171c-4998-adb6-8e89d142394c",
   "metadata": {},
   "outputs": [
    {
     "name": "stdout",
     "output_type": "stream",
     "text": [
      "0.5958333333333333\n"
     ]
    }
   ],
   "source": [
    "print(balanced_accuracy_score(y_2022, y_2022_pred))"
   ]
  },
  {
   "cell_type": "code",
   "execution_count": 254,
   "id": "be7a31be-a31b-4a0d-afbb-27b7690757e9",
   "metadata": {},
   "outputs": [
    {
     "data": {
      "text/plain": [
       "array([[33, 39],\n",
       "       [24, 66]], dtype=int64)"
      ]
     },
     "execution_count": 254,
     "metadata": {},
     "output_type": "execute_result"
    }
   ],
   "source": [
    "confusion_matrix(y_2022, y_2022_pred)"
   ]
  },
  {
   "cell_type": "code",
   "execution_count": 255,
   "id": "33fdafd9-8f7d-486d-b93f-52265d171d30",
   "metadata": {},
   "outputs": [
    {
     "name": "stdout",
     "output_type": "stream",
     "text": [
      "True Positive(TP) =  66\n",
      "False Positive(FP) =  39\n",
      "True Negative(TN) =  33\n",
      "False Negative(FN) =  24\n"
     ]
    }
   ],
   "source": [
    "TN, FP, FN, TP = confusion_matrix(y_2022, y_2022_pred).ravel()\n",
    "print('True Positive(TP) = ', TP)\n",
    "print('False Positive(FP) = ', FP)\n",
    "print('True Negative(TN) = ', TN)\n",
    "print('False Negative(FN) = ', FN)"
   ]
  },
  {
   "cell_type": "code",
   "execution_count": 256,
   "id": "1b280483-9508-41bc-99dc-4b738fc14b40",
   "metadata": {},
   "outputs": [
    {
     "name": "stdout",
     "output_type": "stream",
     "text": [
      "              precision    recall  f1-score   support\n",
      "\n",
      "           0       0.58      0.46      0.51        72\n",
      "           1       0.63      0.73      0.68        90\n",
      "\n",
      "    accuracy                           0.61       162\n",
      "   macro avg       0.60      0.60      0.59       162\n",
      "weighted avg       0.61      0.61      0.60       162\n",
      "\n"
     ]
    }
   ],
   "source": [
    "print(classification_report(y_2022, y_2022_pred))"
   ]
  },
  {
   "cell_type": "markdown",
   "id": "3d4fb79f-d48e-44b3-aa13-381433caa33d",
   "metadata": {},
   "source": [
    "### Mariners' 2021 Dataset Using XGBoost aka Extreme Gradient Boosting"
   ]
  },
  {
   "cell_type": "code",
   "execution_count": 257,
   "id": "ef6927fa-64b8-46a6-8ad2-52e91c5dc128",
   "metadata": {},
   "outputs": [],
   "source": [
    "# Instantiate XGBoost Model w/ random_state = 1\n",
    "model = XGBClassifier(random_state=1)"
   ]
  },
  {
   "cell_type": "code",
   "execution_count": 258,
   "id": "9fb05bc7-b26a-4634-b993-6c261c4194cf",
   "metadata": {},
   "outputs": [],
   "source": [
    "# Fit the model using the scaled training data\n",
    "XGBModel = model.fit(X_train_scaled, y_train)"
   ]
  },
  {
   "cell_type": "code",
   "execution_count": 259,
   "id": "6ba102ca-b9bb-4572-8c05-0b844a716a41",
   "metadata": {},
   "outputs": [],
   "source": [
    "# Make predictions for test data\n",
    "y_pred = XGBModel.predict(X_test_scaled)\n",
    "\n",
    "# convert prediction percentages to binary\n",
    "predictions = [round(value) for value in y_pred]"
   ]
  },
  {
   "cell_type": "code",
   "execution_count": 260,
   "id": "2e4afa82-70db-4b5c-a57b-2bcfbe41b575",
   "metadata": {},
   "outputs": [
    {
     "data": {
      "text/plain": [
       "0.5609756097560976"
      ]
     },
     "execution_count": 260,
     "metadata": {},
     "output_type": "execute_result"
    }
   ],
   "source": [
    "accuracy = accuracy_score(y_test, predictions)\n",
    "accuracy"
   ]
  },
  {
   "cell_type": "code",
   "execution_count": 261,
   "id": "5499166e-efe0-415e-8bee-07a9459dcabe",
   "metadata": {},
   "outputs": [
    {
     "data": {
      "text/plain": [
       "array([[ 9,  9],\n",
       "       [ 9, 14]], dtype=int64)"
      ]
     },
     "execution_count": 261,
     "metadata": {},
     "output_type": "execute_result"
    }
   ],
   "source": [
    "# Generate confusion matrix\n",
    "confusion_matrix(y_test, y_pred)"
   ]
  },
  {
   "cell_type": "code",
   "execution_count": 262,
   "id": "70d2dc18-6cac-43ea-86f7-93d952f83af7",
   "metadata": {},
   "outputs": [
    {
     "name": "stdout",
     "output_type": "stream",
     "text": [
      "True Positive(TP) =  14\n",
      "False Positive(FP) =  9\n",
      "True Negative(TN) =  9\n",
      "False Negative(FN) =  9\n"
     ]
    }
   ],
   "source": [
    "TN, FP, FN, TP = confusion_matrix(y_test, y_pred).ravel()\n",
    "print('True Positive(TP) = ', TP)\n",
    "print('False Positive(FP) = ', FP)\n",
    "print('True Negative(TN) = ', TN)\n",
    "print('False Negative(FN) = ', FN)"
   ]
  },
  {
   "cell_type": "code",
   "execution_count": 263,
   "id": "07ca2b30-1f50-4d94-8731-62fbd5269b46",
   "metadata": {},
   "outputs": [
    {
     "name": "stdout",
     "output_type": "stream",
     "text": [
      "              precision    recall  f1-score   support\n",
      "\n",
      "           0       0.50      0.50      0.50        18\n",
      "           1       0.61      0.61      0.61        23\n",
      "\n",
      "    accuracy                           0.56        41\n",
      "   macro avg       0.55      0.55      0.55        41\n",
      "weighted avg       0.56      0.56      0.56        41\n",
      "\n"
     ]
    }
   ],
   "source": [
    "# Generate classificaiton report\n",
    "print(classification_report(y_test, y_pred))"
   ]
  },
  {
   "cell_type": "code",
   "execution_count": null,
   "id": "106ae252-e9fa-41e2-892c-d06d30b2c645",
   "metadata": {},
   "outputs": [],
   "source": []
  },
  {
   "cell_type": "markdown",
   "id": "2feb005d-291d-4c8f-a3fa-b89f0f9a6909",
   "metadata": {},
   "source": [
    "### Predict Mariners' 2022 Games with XGBoost aka Extreme Gradient Boosting"
   ]
  },
  {
   "cell_type": "code",
   "execution_count": 264,
   "id": "e1e0e979-e21a-44de-aaad-6a5e25d7ea42",
   "metadata": {},
   "outputs": [],
   "source": [
    "# Make predictions for test data\n",
    "y_2022_pred = XGBModel.predict(X_2022_scaled)\n",
    "\n",
    "# convert prediction percentages to binary\n",
    "predictions = [round(value) for value in y_2022_pred]"
   ]
  },
  {
   "cell_type": "code",
   "execution_count": 265,
   "id": "dba75ec7-0d37-482c-accd-1ac732d75d1b",
   "metadata": {},
   "outputs": [
    {
     "data": {
      "text/plain": [
       "0.5432098765432098"
      ]
     },
     "execution_count": 265,
     "metadata": {},
     "output_type": "execute_result"
    }
   ],
   "source": [
    "accuracy = accuracy_score(y_2022, predictions)\n",
    "accuracy"
   ]
  },
  {
   "cell_type": "code",
   "execution_count": 266,
   "id": "28aa5cca-cb00-4026-aebc-74833e9d195a",
   "metadata": {},
   "outputs": [
    {
     "data": {
      "text/plain": [
       "array([[47, 25],\n",
       "       [49, 41]], dtype=int64)"
      ]
     },
     "execution_count": 266,
     "metadata": {},
     "output_type": "execute_result"
    }
   ],
   "source": [
    "# Generate confusion matrix\n",
    "confusion_matrix(y_2022, y_2022_pred)"
   ]
  },
  {
   "cell_type": "code",
   "execution_count": 267,
   "id": "ee53b58a-9185-480d-a306-589d9feb9041",
   "metadata": {},
   "outputs": [
    {
     "name": "stdout",
     "output_type": "stream",
     "text": [
      "True Positive(TP) =  41\n",
      "False Positive(FP) =  25\n",
      "True Negative(TN) =  47\n",
      "False Negative(FN) =  49\n"
     ]
    }
   ],
   "source": [
    "TN, FP, FN, TP = confusion_matrix(y_2022, y_2022_pred).ravel()\n",
    "print('True Positive(TP) = ', TP)\n",
    "print('False Positive(FP) = ', FP)\n",
    "print('True Negative(TN) = ', TN)\n",
    "print('False Negative(FN) = ', FN)"
   ]
  },
  {
   "cell_type": "code",
   "execution_count": 268,
   "id": "4553e296-02e7-4b84-8d97-148096edc208",
   "metadata": {},
   "outputs": [
    {
     "name": "stdout",
     "output_type": "stream",
     "text": [
      "              precision    recall  f1-score   support\n",
      "\n",
      "           0       0.49      0.65      0.56        72\n",
      "           1       0.62      0.46      0.53        90\n",
      "\n",
      "    accuracy                           0.54       162\n",
      "   macro avg       0.56      0.55      0.54       162\n",
      "weighted avg       0.56      0.54      0.54       162\n",
      "\n"
     ]
    }
   ],
   "source": [
    "# Generate classificaiton report\n",
    "print(classification_report(y_2022, y_2022_pred))"
   ]
  },
  {
   "cell_type": "code",
   "execution_count": null,
   "id": "4f11ae47-1dd5-4479-8881-d85ad1568ffb",
   "metadata": {},
   "outputs": [],
   "source": []
  },
  {
   "cell_type": "markdown",
   "id": "e3513616-0bc0-4708-a57d-08ec48108398",
   "metadata": {},
   "source": [
    "## Model Initialization and for loop"
   ]
  },
  {
   "cell_type": "code",
   "execution_count": 269,
   "id": "ed2ac476-2535-4d06-80f0-e894fec058f0",
   "metadata": {},
   "outputs": [],
   "source": [
    "# Initialize each binary classifier\n",
    "models = {}\n",
    "models['Logistic Regression'] = LogisticRegression(random_state=1)\n",
    "models['XGBoost'] = XGBClassifier(random_state=1)"
   ]
  },
  {
   "cell_type": "code",
   "execution_count": 270,
   "id": "45a1a0a9-bf02-4bfe-98e3-a63339cec9b6",
   "metadata": {},
   "outputs": [],
   "source": [
    "# Performance Eval\n",
    "accuracy, precision, recall = {}, {}, {}\n",
    "\n",
    "for key in models.keys():\n",
    "    \n",
    "    # fit the classifier\n",
    "    models[key].fit(X_train_scaled, y_train)\n",
    "    \n",
    "    # make predictions\n",
    "    predictions = models[key].predict(X_test_scaled)\n",
    "    \n",
    "    # calculate metrics\n",
    "    accuracy[key] = accuracy_score(y_test, predictions)\n",
    "    precision[key] = precision_score(y_test, predictions)\n",
    "    recall[key] = recall_score(y_test, predictions)"
   ]
  },
  {
   "cell_type": "markdown",
   "id": "d0ec2fbb-e5a8-4f54-9789-27e928738181",
   "metadata": {},
   "source": [
    "## Results of 2021 Training and Testing Sets"
   ]
  },
  {
   "cell_type": "code",
   "execution_count": 242,
   "id": "aec8dc64-b039-45b9-ba32-b6a9310220f3",
   "metadata": {},
   "outputs": [
    {
     "data": {
      "text/html": [
       "<div>\n",
       "<style scoped>\n",
       "    .dataframe tbody tr th:only-of-type {\n",
       "        vertical-align: middle;\n",
       "    }\n",
       "\n",
       "    .dataframe tbody tr th {\n",
       "        vertical-align: top;\n",
       "    }\n",
       "\n",
       "    .dataframe thead th {\n",
       "        text-align: right;\n",
       "    }\n",
       "</style>\n",
       "<table border=\"1\" class=\"dataframe\">\n",
       "  <thead>\n",
       "    <tr style=\"text-align: right;\">\n",
       "      <th></th>\n",
       "      <th>Accuracy</th>\n",
       "      <th>Precision</th>\n",
       "      <th>Recall</th>\n",
       "    </tr>\n",
       "  </thead>\n",
       "  <tbody>\n",
       "    <tr>\n",
       "      <th>Logistic Regression</th>\n",
       "      <td>0.560976</td>\n",
       "      <td>0.631579</td>\n",
       "      <td>0.521739</td>\n",
       "    </tr>\n",
       "    <tr>\n",
       "      <th>XGBoost</th>\n",
       "      <td>0.560976</td>\n",
       "      <td>0.608696</td>\n",
       "      <td>0.608696</td>\n",
       "    </tr>\n",
       "  </tbody>\n",
       "</table>\n",
       "</div>"
      ],
      "text/plain": [
       "                     Accuracy  Precision    Recall\n",
       "Logistic Regression  0.560976   0.631579  0.521739\n",
       "XGBoost              0.560976   0.608696  0.608696"
      ]
     },
     "execution_count": 242,
     "metadata": {},
     "output_type": "execute_result"
    }
   ],
   "source": [
    "df_model = pd.DataFrame(index=models.keys(), columns=[\"Accuracy\", \"Precision\", \"Recall\"])\n",
    "df_model['Accuracy'] = accuracy.values()\n",
    "df_model['Precision'] = precision.values()\n",
    "df_model['Recall'] = recall.values()\n",
    "\n",
    "df_model"
   ]
  },
  {
   "cell_type": "code",
   "execution_count": 243,
   "id": "a9ba68e7-3d33-433f-b855-e080354d3051",
   "metadata": {},
   "outputs": [
    {
     "data": {
      "text/plain": [
       "<matplotlib.legend.Legend at 0x1a863b0ac08>"
      ]
     },
     "execution_count": 243,
     "metadata": {},
     "output_type": "execute_result"
    },
    {
     "data": {
      "image/png": "[encoded data removed]",
      "text/plain": [
       "<Figure size 432x288 with 1 Axes>"
      ]
     },
     "metadata": {
      "needs_background": "light"
     },
     "output_type": "display_data"
    }
   ],
   "source": [
    "ax  = df_model.plot.barh()\n",
    "ax.legend(\n",
    "    ncol=3,\n",
    "    title=\"Model Comparison\",\n",
    "    bbox_to_anchor=(.2,1),\n",
    "    fontsize='small'\n",
    ")"
   ]
  },
  {
   "cell_type": "markdown",
   "id": "7e278588-735f-469a-898f-63d01de4382f",
   "metadata": {},
   "source": [
    "## Results of Predicting Mariners' 2022 Games"
   ]
  },
  {
   "cell_type": "code",
   "execution_count": 244,
   "id": "4f0bfc01-96d0-45ef-8716-038b3524a42b",
   "metadata": {},
   "outputs": [],
   "source": [
    "models = {}\n",
    "models['Logistic Regression'] = LogisticRegression(random_state=1)\n",
    "models['XGBoost'] = XGBClassifier(random_state=1)"
   ]
  },
  {
   "cell_type": "code",
   "execution_count": 245,
   "id": "c2b29b4b-da2f-4465-b83d-f2f0fff7e2a0",
   "metadata": {},
   "outputs": [],
   "source": [
    "# Performance Eval\n",
    "accuracy, precision, recall = {}, {}, {}\n",
    "\n",
    "for key in models.keys():\n",
    "    \n",
    "    # fit the classifier\n",
    "    models[key].fit(X_train_scaled, y_train)\n",
    "    \n",
    "    # make predictions\n",
    "    predictions = models[key].predict(X_2022_scaled)\n",
    "    \n",
    "    # calculate metrics\n",
    "    accuracy[key] = accuracy_score(y_2022, predictions)\n",
    "    precision[key] = precision_score(y_2022, predictions)\n",
    "    recall[key] = recall_score(y_2022, predictions)"
   ]
  },
  {
   "cell_type": "code",
   "execution_count": 246,
   "id": "c29977a5-cf18-456e-be38-f1c5d8e87230",
   "metadata": {},
   "outputs": [
    {
     "data": {
      "text/html": [
       "<div>\n",
       "<style scoped>\n",
       "    .dataframe tbody tr th:only-of-type {\n",
       "        vertical-align: middle;\n",
       "    }\n",
       "\n",
       "    .dataframe tbody tr th {\n",
       "        vertical-align: top;\n",
       "    }\n",
       "\n",
       "    .dataframe thead th {\n",
       "        text-align: right;\n",
       "    }\n",
       "</style>\n",
       "<table border=\"1\" class=\"dataframe\">\n",
       "  <thead>\n",
       "    <tr style=\"text-align: right;\">\n",
       "      <th></th>\n",
       "      <th>Accuracy</th>\n",
       "      <th>Precision</th>\n",
       "      <th>Recall</th>\n",
       "    </tr>\n",
       "  </thead>\n",
       "  <tbody>\n",
       "    <tr>\n",
       "      <th>Logistic Regression</th>\n",
       "      <td>0.611111</td>\n",
       "      <td>0.628571</td>\n",
       "      <td>0.733333</td>\n",
       "    </tr>\n",
       "    <tr>\n",
       "      <th>XGBoost</th>\n",
       "      <td>0.543210</td>\n",
       "      <td>0.621212</td>\n",
       "      <td>0.455556</td>\n",
       "    </tr>\n",
       "  </tbody>\n",
       "</table>\n",
       "</div>"
      ],
      "text/plain": [
       "                     Accuracy  Precision    Recall\n",
       "Logistic Regression  0.611111   0.628571  0.733333\n",
       "XGBoost              0.543210   0.621212  0.455556"
      ]
     },
     "execution_count": 246,
     "metadata": {},
     "output_type": "execute_result"
    }
   ],
   "source": [
    "df_model = pd.DataFrame(index=models.keys(), columns=[\"Accuracy\", \"Precision\", \"Recall\"])\n",
    "df_model['Accuracy'] = accuracy.values()\n",
    "df_model['Precision'] = precision.values()\n",
    "df_model['Recall'] = recall.values()\n",
    "\n",
    "df_model"
   ]
  },
  {
   "cell_type": "code",
   "execution_count": 247,
   "id": "14272721-9cf4-48f5-a86b-4a03e59cc8b2",
   "metadata": {},
   "outputs": [
    {
     "data": {
      "text/plain": [
       "<matplotlib.legend.Legend at 0x1a863b4df48>"
      ]
     },
     "execution_count": 247,
     "metadata": {},
     "output_type": "execute_result"
    },
    {
     "data": {
      "image/png": "[encoded data removed]",
      "text/plain": [
       "<Figure size 432x288 with 1 Axes>"
      ]
     },
     "metadata": {
      "needs_background": "light"
     },
     "output_type": "display_data"
    }
   ],
   "source": [
    "ax  = df_model.plot.barh()\n",
    "ax.legend(\n",
    "    ncol=3,\n",
    "    title=\"Model Comparison\",\n",
    "    bbox_to_anchor=(.2,1),\n",
    "    fontsize='small'\n",
    ")"
   ]
  },
  {
   "cell_type": "code",
   "execution_count": null,
   "id": "20d2ef15-0ffb-46e4-96bd-101fb969774c",
   "metadata": {},
   "outputs": [],
   "source": []
  }
 ],
 "metadata": {
  "kernelspec": {
   "display_name": "Python 3 (ipykernel)",
   "language": "python",
   "name": "python3"
  },
  "language_info": {
   "codemirror_mode": {
    "name": "ipython",
    "version": 3
   },
   "file_extension": ".py",
   "mimetype": "text/x-python",
   "name": "python",
   "nbconvert_exporter": "python",
   "pygments_lexer": "ipython3",
   "version": "3.7.13"
  }
 },
 "nbformat": 4,
 "nbformat_minor": 5
}
